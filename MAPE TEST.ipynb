{
 "cells": [
  {
   "cell_type": "code",
   "execution_count": 11,
   "id": "64a01d20",
   "metadata": {},
   "outputs": [
    {
     "name": "stdout",
     "output_type": "stream",
     "text": [
      "   Geography          HomeType  Average Price_data1  Average Price_data2\n",
      "0       Ajax  Att_Row_Twnhouse             935333.0         1.008148e+06\n",
      "1       Ajax         Condo Apt             657143.0         6.263705e+05\n",
      "2       Ajax   Condo Townhouse             754500.0         7.740785e+05\n",
      "3       Ajax          Detached            1153715.0         1.399331e+06\n",
      "4       Ajax              Link             960000.0         8.961721e+05\n",
      "5       Ajax     Semi-Detached             900250.0         9.846153e+05\n",
      "6     Aurora  Att_Row_Twnhouse            1044920.0         1.240973e+06\n",
      "7     Aurora         Condo Apt             720688.0         7.584127e+05\n",
      "8     Aurora   Condo Townhouse             900222.0         9.437915e+05\n",
      "9     Aurora          Detached            1775485.0         1.754999e+06\n",
      "10    Aurora              Link            1125000.0         1.078527e+06\n",
      "11    Aurora     Semi-Detached            1099333.0         1.225024e+06\n",
      "12  Brampton  Att_Row_Twnhouse             940493.0         1.036737e+06\n",
      "13  Brampton         Condo Apt             610473.0         6.479326e+05\n",
      "14  Brampton   Condo Townhouse             756195.0         8.106335e+05\n"
     ]
    }
   ],
   "source": [
    "import pandas as pd\n",
    "\n",
    "columns_to_import = [\"Geography\", \"HomeType\", \"Average Price\"]\n",
    "\n",
    "data1_path = '/Users/Documents/MMA 2024/MMA 860/Course Project/Housing_cleaned-final-junv3.csv'\n",
    "data2_path = '/Users/Documents/MMA 2024/MMA 860/Course Project/Price prediction_rates.csv'\n",
    "\n",
    "data1 = pd.read_csv(data1_path, usecols=columns_to_import)\n",
    "data2 = pd.read_csv(data2_path, usecols=columns_to_import)\n",
    "\n",
    "data1 = data1.groupby(['Geography', 'HomeType']).agg({'Average Price': 'mean'}).reset_index()\n",
    "data2 = data2.groupby(['Geography', 'HomeType']).agg({'Average Price': 'mean'}).reset_index()\n",
    "\n",
    "# Merge the two datasets based on \"Geography\" and \"HomeType\"\n",
    "merged_data = pd.merge(data1, data2, on=[\"Geography\", \"HomeType\"], suffixes=('_data1', '_data2'))\n",
    "\n",
    "# Print the first 15 rows of the merged data to inspect the result\n",
    "print(merged_data.head(15))\n"
   ]
  },
  {
   "cell_type": "code",
   "execution_count": 12,
   "id": "d3399cdd",
   "metadata": {},
   "outputs": [
    {
     "name": "stdout",
     "output_type": "stream",
     "text": [
      "MAPE between the two datasets: 9.61%\n"
     ]
    }
   ],
   "source": [
    "def calculate_mape(actual, predicted):\n",
    "    # Calculate the absolute percentage error for each row\n",
    "    mape = (abs((actual - predicted) / actual)).mean() * 100\n",
    "    return mape\n",
    "\n",
    "# Calculate MAPE between the two \"Average Price\" columns\n",
    "mape_value = calculate_mape(merged_data['Average Price_data1'], merged_data['Average Price_data2'])\n",
    "\n",
    "print(f\"MAPE between the two datasets: {mape_value:.2f}%\")\n"
   ]
  }
 ],
 "metadata": {
  "kernelspec": {
   "display_name": "Python 3 (ipykernel)",
   "language": "python",
   "name": "python3"
  },
  "language_info": {
   "codemirror_mode": {
    "name": "ipython",
    "version": 3
   },
   "file_extension": ".py",
   "mimetype": "text/x-python",
   "name": "python",
   "nbconvert_exporter": "python",
   "pygments_lexer": "ipython3",
   "version": "3.10.8"
  }
 },
 "nbformat": 4,
 "nbformat_minor": 5
}
